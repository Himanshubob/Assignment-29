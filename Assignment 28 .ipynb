{
 "cells": [
  {
   "cell_type": "markdown",
   "id": "b76f5296",
   "metadata": {},
   "source": [
    "# Q1: What is Estimation Statistics? Explain point estimate and interval estimate."
   ]
  },
  {
   "cell_type": "markdown",
   "id": "e3dc839d",
   "metadata": {},
   "source": [
    "#  ans.. It  is  an obsrved numerical value used to estimate on unknown population parameter .\n",
    "#  point estimater:- single  numberical value used to estimate the unkown population parameter \n",
    "# interval estimate :-\n",
    "# pange of  value used to estimate the unkown population  parameter "
   ]
  },
  {
   "cell_type": "code",
   "execution_count": 4,
   "id": "09903f74",
   "metadata": {},
   "outputs": [],
   "source": [
    "import math\n",
    "def estimation(s_mean,s_std,s_size):\n",
    "    z=1.96\n",
    "    ebm=z*s_std/math.sqrt(s_size)\n",
    "    lower_bound=s_mean-ebm\n",
    "    upper_bound=s_mean+ebm\n",
    "    return(lower_bound,upper_bound)"
   ]
  },
  {
   "cell_type": "code",
   "execution_count": 5,
   "id": "8e050427",
   "metadata": {},
   "outputs": [
    {
     "name": "stdout",
     "output_type": "stream",
     "text": [
      "(20.52077431442799, 25.47922568557201)\n"
     ]
    }
   ],
   "source": [
    "print(estimation(23,4,10))"
   ]
  },
  {
   "cell_type": "markdown",
   "id": "b64a8e11",
   "metadata": {},
   "source": [
    "# Q3: What is Hypothesis testing? Why is it used? State the importance of Hypothesis testing."
   ]
  },
  {
   "cell_type": "markdown",
   "id": "cdd4ac1a",
   "metadata": {},
   "source": [
    "# Hypothesis is the calculating the null hypothesis is reject or accepet\n",
    "#  all hypothesis  is the important but most time used the z test hypothesis"
   ]
  },
  {
   "cell_type": "markdown",
   "id": "c09fbb1a",
   "metadata": {},
   "source": [
    "# Q4. Create a hypothesis that states whether the average weight of male college students is greater than the average weight of female college students. "
   ]
  },
  {
   "cell_type": "markdown",
   "id": "d13812a3",
   "metadata": {},
   "source": [
    "# ANS.. independent varible are gender and dependent varibales are weight \n",
    "# H0=there is no difference in the averge weight of male and female\n",
    "# H1=there is a difference in the averge weight of male aqnd female "
   ]
  },
  {
   "cell_type": "markdown",
   "id": "b8cfa43e",
   "metadata": {},
   "source": [
    "# Q5. Write a Python script to conduct a hypothesis test on the difference between two population means, given a sample from each population."
   ]
  },
  {
   "cell_type": "code",
   "execution_count": 6,
   "id": "6097ad3c",
   "metadata": {},
   "outputs": [],
   "source": [
    "import numpy as np\n",
    "import scipy.stats as stats"
   ]
  },
  {
   "cell_type": "code",
   "execution_count": 7,
   "id": "8e9bf42a",
   "metadata": {},
   "outputs": [],
   "source": [
    "sample1 = [10, 12, 15, 17, 19]\n",
    "sample2 = [13, 16, 18, 20, 22]"
   ]
  },
  {
   "cell_type": "code",
   "execution_count": 8,
   "id": "d4c181ad",
   "metadata": {},
   "outputs": [],
   "source": [
    "xbar1 = np.mean(sample1)\n",
    "xbar2 = np.mean(sample2)\n",
    "s1 = np.var(sample1, ddof=1)\n",
    "s2 = np.var(sample2, ddof=1)\n",
    "n1 = len(sample1)\n",
    "n2 = len(sample2)"
   ]
  },
  {
   "cell_type": "code",
   "execution_count": 9,
   "id": "c42c555a",
   "metadata": {},
   "outputs": [],
   "source": [
    "H0 = \"There is no difference between the population means.\"\n",
    "Ha = \"There is a difference between the population means.\""
   ]
  },
  {
   "cell_type": "code",
   "execution_count": 10,
   "id": "423ab344",
   "metadata": {},
   "outputs": [
    {
     "name": "stdout",
     "output_type": "stream",
     "text": [
      "Test statistic: -1.417\n",
      "Degrees of freedom: 7.985\n",
      "Critical value: 2.307\n"
     ]
    }
   ],
   "source": [
    "alpha = 0.05\n",
    "t = (xbar1 - xbar2) / np.sqrt((s1 / n1) + (s2 / n2))\n",
    "print(f\"Test statistic: {t:.3f}\")\n",
    "df = ((s1 / n1) + (s2 / n2))**2 / (((s1 / n1)**2 / (n1 - 1)) + ((s2 / n2)**2 / (n2 - 1)))\n",
    "print(f\"Degrees of freedom: {df:.3f}\")\n",
    "tc = stats.t.ppf(1 - alpha / 2, df)\n",
    "print(f\"Critical value: {tc:.3f}\")"
   ]
  },
  {
   "cell_type": "code",
   "execution_count": 11,
   "id": "3ff8716d",
   "metadata": {},
   "outputs": [
    {
     "name": "stdout",
     "output_type": "stream",
     "text": [
      "Fail to reject H0. There is no difference between the population means.\n",
      "P-value: 0.194\n",
      "Confidence interval: (-8.409377809029655, 2.009377809029653)\n"
     ]
    }
   ],
   "source": [
    "if abs(t) > tc:\n",
    "    print(f\"Reject H0. {Ha}\")\n",
    "else:\n",
    "    print(f\"Fail to reject H0. {H0}\")\n",
    "p = stats.t.sf(abs(t), df) * 2 # two-tailed test\n",
    "print(f\"P-value: {p:.3f}\")\n",
    "ci = stats.t.interval(1 - alpha, df, loc=(xbar1 - xbar2), scale=np.sqrt((s1 / n1) + (s2 / n2)))\n",
    "print(f\"Confidence interval: {ci}\")"
   ]
  },
  {
   "cell_type": "markdown",
   "id": "59d333f3",
   "metadata": {},
   "source": [
    "# Q6: What is a null and alternative hypothesis? Give some examples."
   ]
  },
  {
   "cell_type": "markdown",
   "id": "a60a1df7",
   "metadata": {},
   "source": [
    "# ans..hypothesis is the pridection the somthing mater \n",
    "# ex. H0=there is no difference in the averge weight of male and female\n",
    "# H1=there is a difference in the averge weight of male aqnd female "
   ]
  },
  {
   "cell_type": "markdown",
   "id": "e18404a5",
   "metadata": {},
   "source": [
    "# Q7: Write down the steps involved in hypothesis testing."
   ]
  },
  {
   "cell_type": "markdown",
   "id": "e93aae22",
   "metadata": {},
   "source": [
    "# 1.state the null Hypothesis\n",
    "# 2.state the Alternative  hypo..\n",
    "# 3.set alpha\n",
    "# 4. collect data.\n",
    "# 5. calculate a test statistic\n",
    "# 6. construct Acceptance /Rejection \n"
   ]
  },
  {
   "cell_type": "markdown",
   "id": "eff0aae1",
   "metadata": {},
   "source": [
    "# Q8. Define p-value and explain its significance in hypothesis testing."
   ]
  },
  {
   "cell_type": "markdown",
   "id": "8ca0125a",
   "metadata": {},
   "source": [
    "# ans.. A p value is statistical measurement used to validate a hypothesis against observed data"
   ]
  },
  {
   "cell_type": "markdown",
   "id": "fc24d91b",
   "metadata": {},
   "source": [
    "# Q9. Generate a Student's t-distribution plot using Python's matplotlib library, with the degrees of freedom parameter set to 10."
   ]
  },
  {
   "cell_type": "code",
   "execution_count": 12,
   "id": "685c657a",
   "metadata": {},
   "outputs": [],
   "source": [
    "import matplotlib.pyplot as plt\n",
    "import scipy.stats as stats "
   ]
  },
  {
   "cell_type": "code",
   "execution_count": 14,
   "id": "910dedd5",
   "metadata": {},
   "outputs": [
    {
     "data": {
      "image/png": "[encoded data removed]",
      "text/plain": [
       "<Figure size 640x480 with 1 Axes>"
      ]
     },
     "metadata": {},
     "output_type": "display_data"
    }
   ],
   "source": [
    "x=np.arange(-4,4,0.01)\n",
    "y=stats.t.pdf(x,10)\n",
    "plt.plot(x,y)\n",
    "plt.show()"
   ]
  },
  {
   "cell_type": "markdown",
   "id": "960d80f9",
   "metadata": {},
   "source": [
    "# Q10. Write a Python program to calculate the two-sample t-test for independent samples, given two random samples of equal size and a null hypothesis that the population means are equal."
   ]
  },
  {
   "cell_type": "code",
   "execution_count": 15,
   "id": "4cc0e3b9",
   "metadata": {},
   "outputs": [],
   "source": [
    "sample1 = np.random.normal(10, 5, 20)\n",
    "sample2 = np.random.normal(15, 3, 20) "
   ]
  },
  {
   "cell_type": "code",
   "execution_count": 16,
   "id": "06d0a684",
   "metadata": {},
   "outputs": [],
   "source": [
    "mean1 = np.mean(sample1)\n",
    "mean2 = np.mean(sample2)"
   ]
  },
  {
   "cell_type": "code",
   "execution_count": 17,
   "id": "98570ba9",
   "metadata": {},
   "outputs": [],
   "source": [
    "std1 = np.std(sample1, ddof=1)  \n",
    "std2 = np.std(sample2, ddof=1)"
   ]
  },
  {
   "cell_type": "code",
   "execution_count": 18,
   "id": "8b673fc0",
   "metadata": {},
   "outputs": [],
   "source": [
    "n1 = len(sample1)\n",
    "n2 = len(sample2)\n",
    "sp = np.sqrt(((n1 - 1) * std1**2 + (n2 - 1) * std2**2) / (n1 + n2 - 2))"
   ]
  },
  {
   "cell_type": "code",
   "execution_count": 19,
   "id": "9538ee4a",
   "metadata": {},
   "outputs": [],
   "source": [
    "t = (mean1 - mean2) / (sp * np.sqrt(1 / n1 + 1 / n2))\n",
    "df = n1 + n2 - 2\n",
    "p = stats.t.sf(np.abs(t), df) * 2"
   ]
  },
  {
   "cell_type": "code",
   "execution_count": 20,
   "id": "cc53a354",
   "metadata": {},
   "outputs": [
    {
     "name": "stdout",
     "output_type": "stream",
     "text": [
      "Sample 1: mean = 8.04712728952634 , standard deviation = 7.168535256570508\n",
      "Sample 2: mean = 14.954808635772247 , standard deviation = 3.4028386521921363\n",
      "Pooled standard deviation = 5.611025245779384\n",
      "t-statistic = -3.89305081477335\n",
      "Degrees of freedom = 38\n",
      "p-value = 0.00038732355835711967\n"
     ]
    }
   ],
   "source": [
    "print(\"Sample 1: mean =\", mean1, \", standard deviation =\", std1)\n",
    "print(\"Sample 2: mean =\", mean2, \", standard deviation =\", std2)\n",
    "print(\"Pooled standard deviation =\", sp)\n",
    "print(\"t-statistic =\", t)\n",
    "print(\"Degrees of freedom =\", df)\n",
    "print(\"p-value =\", p)"
   ]
  },
  {
   "cell_type": "code",
   "execution_count": 21,
   "id": "d73661bb",
   "metadata": {},
   "outputs": [
    {
     "name": "stdout",
     "output_type": "stream",
     "text": [
      "The p-value is less than 0.05, so we reject the null hypothesis and conclude that there is a significant difference between the population means.\n"
     ]
    }
   ],
   "source": [
    "if p < 0.05:\n",
    "    print(\"The p-value is less than 0.05, so we reject the null hypothesis and conclude that there is a significant difference between the population means.\")\n",
    "else:\n",
    "    print(\"The p-value is greater than or equal to 0.05, so we fail to reject the null hypothesis and conclude that there is no significant difference between the population means.\")"
   ]
  },
  {
   "cell_type": "markdown",
   "id": "51d87e15",
   "metadata": {},
   "source": [
    "# Q11: What is Student’s t distribution? When to use the t-Distribution."
   ]
  },
  {
   "cell_type": "markdown",
   "id": "417e7983",
   "metadata": {},
   "source": [
    "# ans.. statiscal analsis using z-score we need population standard deviation \n",
    " # used the student t distribution   , kown the mean and variance "
   ]
  },
  {
   "cell_type": "markdown",
   "id": "b8d8c4bf",
   "metadata": {},
   "source": [
    "# Q12: What is t-statistic? State the formula for t-statistic."
   ]
  },
  {
   "cell_type": "markdown",
   "id": "5255da41",
   "metadata": {},
   "source": [
    "# the t -statistic is used in a t test to determine whether to support or reject the null hypothesis \n",
    "# formula t=(X‾ - μ0) / (s / √n),"
   ]
  },
  {
   "cell_type": "markdown",
   "id": "86e4da28",
   "metadata": {},
   "source": [
    "# Q13. A coffee shop owner wants to estimate the average daily revenue for their shop. They take a random sample of 50 days and find the sample mean revenue to be   500 withstandard deviation of 50. Estimate the population mean revenue with a 95% confidence interval."
   ]
  },
  {
   "cell_type": "markdown",
   "id": "9c04a372",
   "metadata": {},
   "source": [
    "# confidence interval= x +/- z* (s/√n)\n",
    "# x: sample mean z: the chosen z-value s: sample standard deviation n: sample size\n",
    "# The z-value that corresponds to a 95% confidence level is 1.961. Plugging in the given values, we get:\n",
    "# Confidence Interval = 500 +/- 1.96* (50/√50) Confidence Interval = 500 +/- 13.86 Confidence Interval = [486.14, 513.86]"
   ]
  },
  {
   "cell_type": "markdown",
   "id": "49df7c19",
   "metadata": {},
   "source": [
    "# Q14. A researcher hypothesizes that a new drug will decrease blood pressure by 10 mmHg. They conduct a clinical trial with 100 patients and find that the sample mean decrease in blood pressure is 8 mmHg with a standard deviation of 3 mmHg. Test the hypothesis with a significance level of 0.05."
   ]
  },
  {
   "cell_type": "markdown",
   "id": "1caae48a",
   "metadata": {},
   "source": [
    "# H 0: The mean decrease in blood pressure is equal to 10 mmHg\n",
    "#  H a: The mean decrease in blood pressure is not equal to 10 mmHg\n",
    "# the formula o9f t test t,t = (x̄ - µ) / (s / √n)\n",
    "# t = (8 - 10) / (3 / √100) = -6.67\n",
    "# p = 2 * P(t < -6.67) ≈ 0"
   ]
  },
  {
   "cell_type": "markdown",
   "id": "f5219005",
   "metadata": {},
   "source": [
    "# Q15. An electronics company produces a certain type of product with a mean weight of 5 pounds and a standard deviation of 0.5 pounds. A random sample of 25 products is taken, and the sample mean weight is found to be 4.8 pounds. Test the hypothesis that the true mean weight of the products is less than 5 pounds with a significance level of 0.01."
   ]
  },
  {
   "cell_type": "markdown",
   "id": "0d21c488",
   "metadata": {},
   "source": [
    "# The null hypothesis (H0) for this test is that the true mean weight of the products is equal to 5 pounds\n",
    "#  The alternative hypothesis (Ha) is that the true mean weight of the products is less than 5 pounds\n",
    "# The test statistic for this test is given by the formula:\n",
    "# t=  x bar - mu)/s/sqrt(n)\n",
    "#  t=4.8-5)/.5/5=-2"
   ]
  },
  {
   "cell_type": "markdown",
   "id": "d84bd192",
   "metadata": {},
   "source": [
    "# Q16. Two groups of students are given different study materials to prepare for a test. The first group (n1 = 30) has a mean score of 80 with a standard deviation of 10, and the second group (n2 = 40) has a meanm score of 75 with a standard deviation of 8. Test the hypothesis that the population means for the two groups are equal with a significance level of 0.01."
   ]
  },
  {
   "cell_type": "markdown",
   "id": "ee140af6",
   "metadata": {},
   "source": [
    "# ans.. H0: μ1 = μ2 H1: μ1 ≠ μ2\n",
    "# Calculate the test statistic t using the formula:\n",
    "\n",
    "# t = (x1 - x2) / sp(√1/n1 + 1/n2)\n",
    "# sp = √((n1-1)s12 + (n2-1)s22) / (n1+n2-2)\n",
    "# t = (80 - 75) / √((2910^2 + 398^2) / 68)(√(1/30 + 1/40)) t = 5 / 3.07 t = 1.63\n",
    "# df = n1 + n2 - 2 df = 30 + 40 - 2 df = 68"
   ]
  },
  {
   "cell_type": "markdown",
   "id": "b7d1bdc8",
   "metadata": {},
   "source": [
    "# Q17. A marketing company wants to estimate the average number of ads watched by viewers during a TVprogram. They take a random sample of 50 viewers and find that the sample mean is 4 with a standard "
   ]
  },
  {
   "cell_type": "markdown",
   "id": "99647f57",
   "metadata": {},
   "source": [
    "# Confidence Interval = x +/- z* (s/√n)\n",
    "# x: sample mean z: the chosen z-value s: sample standard deviation n: sample size \n",
    "# Confidence Interval = 4 +/- 2.58* (1.5/√50) Confidence Interval = 4 +/- 0.55 Confidence Interval = [3.45, 4.55]\n",
    "\n",
    "# This means that we are 99% confident that the true population mean of ads watched by viewers during a TV program is between 3.45 and 4.55."
   ]
  },
  {
   "cell_type": "code",
   "execution_count": null,
   "id": "cc1fc921",
   "metadata": {},
   "outputs": [],
   "source": []
  }
 ],
 "metadata": {
  "kernelspec": {
   "display_name": "Python 3 (ipykernel)",
   "language": "python",
   "name": "python3"
  },
  "language_info": {
   "codemirror_mode": {
    "name": "ipython",
    "version": 3
   },
   "file_extension": ".py",
   "mimetype": "text/x-python",
   "name": "python",
   "nbconvert_exporter": "python",
   "pygments_lexer": "ipython3",
   "version": "3.10.9"
  }
 },
 "nbformat": 4,
 "nbformat_minor": 5
}
